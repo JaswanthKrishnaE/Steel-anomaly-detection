{
 "cells": [
  {
   "cell_type": "code",
   "execution_count": 1,
   "id": "5c2724f6",
   "metadata": {
    "execution": {
     "iopub.execute_input": "2023-10-12T06:53:52.362915Z",
     "iopub.status.busy": "2023-10-12T06:53:52.362589Z",
     "iopub.status.idle": "2023-10-12T06:54:09.758090Z",
     "shell.execute_reply": "2023-10-12T06:54:09.756899Z"
    },
    "id": "KOyL104jkI-6",
    "outputId": "fdde0f8c-7a36-4083-8c6f-bf17083395cc",
    "papermill": {
     "duration": 17.401193,
     "end_time": "2023-10-12T06:54:09.760046",
     "exception": false,
     "start_time": "2023-10-12T06:53:52.358853",
     "status": "completed"
    },
    "tags": []
   },
   "outputs": [
    {
     "name": "stderr",
     "output_type": "stream",
     "text": [
      "Ultralytics YOLOv8.0.196 🚀 Python-3.10.12 torch-2.0.0 CUDA:0 (Tesla T4, 15110MiB)\n",
      "Setup complete ✅ (2 CPUs, 15.6 GB RAM, 5016.7/8062.4 GB disk)\n"
     ]
    }
   ],
   "source": [
    "!pip install ultralytics\n",
    "\n",
    "from IPython import display\n",
    "display.clear_output()\n",
    "\n",
    "import ultralytics\n",
    "ultralytics.checks()"
   ]
  },
  {
   "cell_type": "code",
   "execution_count": 2,
   "id": "17a68e49",
   "metadata": {
    "execution": {
     "iopub.execute_input": "2023-10-12T06:54:09.766155Z",
     "iopub.status.busy": "2023-10-12T06:54:09.765702Z",
     "iopub.status.idle": "2023-10-12T06:54:09.770539Z",
     "shell.execute_reply": "2023-10-12T06:54:09.769706Z"
    },
    "id": "IA9ERSQMkI-8",
    "outputId": "c9cc23ee-672b-41e2-a88b-d9a96db72d91",
    "papermill": {
     "duration": 0.010076,
     "end_time": "2023-10-12T06:54:09.772551",
     "exception": false,
     "start_time": "2023-10-12T06:54:09.762475",
     "status": "completed"
    },
    "tags": []
   },
   "outputs": [
    {
     "name": "stdout",
     "output_type": "stream",
     "text": [
      "/kaggle/working\n"
     ]
    }
   ],
   "source": [
    "import os\n",
    "HOME = os.getcwd()\n",
    "print(HOME)"
   ]
  },
  {
   "cell_type": "code",
   "execution_count": 3,
   "id": "fc9d9039",
   "metadata": {
    "execution": {
     "iopub.execute_input": "2023-10-12T06:54:09.777777Z",
     "iopub.status.busy": "2023-10-12T06:54:09.777417Z",
     "iopub.status.idle": "2023-10-12T06:54:41.905384Z",
     "shell.execute_reply": "2023-10-12T06:54:41.904448Z"
    },
    "id": "QptVyQ16kI--",
    "outputId": "fd4f28ae-489f-4cb9-987d-ac50a3c333ac",
    "papermill": {
     "duration": 32.132698,
     "end_time": "2023-10-12T06:54:41.907314",
     "exception": false,
     "start_time": "2023-10-12T06:54:09.774616",
     "status": "completed"
    },
    "tags": []
   },
   "outputs": [
    {
     "name": "stdout",
     "output_type": "stream",
     "text": [
      "/kaggle/working/datasets\n",
      "Collecting roboflow\r\n",
      "  Downloading roboflow-1.1.7-py3-none-any.whl (58 kB)\r\n",
      "\u001b[2K     \u001b[90m━━━━━━━━━━━━━━━━━━━━━━━━━━━━━━━━━━━━━━━━\u001b[0m \u001b[32m58.8/58.8 kB\u001b[0m \u001b[31m2.6 MB/s\u001b[0m eta \u001b[36m0:00:00\u001b[0m\r\n",
      "\u001b[?25hCollecting certifi==2022.12.7 (from roboflow)\r\n",
      "  Downloading certifi-2022.12.7-py3-none-any.whl (155 kB)\r\n",
      "\u001b[2K     \u001b[90m━━━━━━━━━━━━━━━━━━━━━━━━━━━━━━━━━━━━━━━\u001b[0m \u001b[32m155.3/155.3 kB\u001b[0m \u001b[31m7.5 MB/s\u001b[0m eta \u001b[36m0:00:00\u001b[0m\r\n",
      "\u001b[?25hCollecting chardet==4.0.0 (from roboflow)\r\n",
      "  Downloading chardet-4.0.0-py2.py3-none-any.whl (178 kB)\r\n",
      "\u001b[2K     \u001b[90m━━━━━━━━━━━━━━━━━━━━━━━━━━━━━━━━━━━━━━\u001b[0m \u001b[32m178.7/178.7 kB\u001b[0m \u001b[31m15.4 MB/s\u001b[0m eta \u001b[36m0:00:00\u001b[0m\r\n",
      "\u001b[?25hCollecting cycler==0.10.0 (from roboflow)\r\n",
      "  Downloading cycler-0.10.0-py2.py3-none-any.whl (6.5 kB)\r\n",
      "Collecting idna==2.10 (from roboflow)\r\n",
      "  Downloading idna-2.10-py2.py3-none-any.whl (58 kB)\r\n",
      "\u001b[2K     \u001b[90m━━━━━━━━━━━━━━━━━━━━━━━━━━━━━━━━━━━━━━━━\u001b[0m \u001b[32m58.8/58.8 kB\u001b[0m \u001b[31m5.6 MB/s\u001b[0m eta \u001b[36m0:00:00\u001b[0m\r\n",
      "\u001b[?25hRequirement already satisfied: kiwisolver>=1.3.1 in /opt/conda/lib/python3.10/site-packages (from roboflow) (1.4.4)\r\n",
      "Requirement already satisfied: matplotlib in /opt/conda/lib/python3.10/site-packages (from roboflow) (3.7.1)\r\n",
      "Requirement already satisfied: numpy>=1.18.5 in /opt/conda/lib/python3.10/site-packages (from roboflow) (1.23.5)\r\n",
      "Requirement already satisfied: opencv-python-headless==4.8.0.74 in /opt/conda/lib/python3.10/site-packages (from roboflow) (4.8.0.74)\r\n",
      "Requirement already satisfied: Pillow>=7.1.2 in /opt/conda/lib/python3.10/site-packages (from roboflow) (9.5.0)\r\n",
      "Collecting pyparsing==2.4.7 (from roboflow)\r\n",
      "  Downloading pyparsing-2.4.7-py2.py3-none-any.whl (67 kB)\r\n",
      "\u001b[2K     \u001b[90m━━━━━━━━━━━━━━━━━━━━━━━━━━━━━━━━━━━━━━━━\u001b[0m \u001b[32m67.8/67.8 kB\u001b[0m \u001b[31m6.4 MB/s\u001b[0m eta \u001b[36m0:00:00\u001b[0m\r\n",
      "\u001b[?25hRequirement already satisfied: python-dateutil in /opt/conda/lib/python3.10/site-packages (from roboflow) (2.8.2)\r\n",
      "Requirement already satisfied: python-dotenv in /opt/conda/lib/python3.10/site-packages (from roboflow) (1.0.0)\r\n",
      "Requirement already satisfied: requests in /opt/conda/lib/python3.10/site-packages (from roboflow) (2.31.0)\r\n",
      "Requirement already satisfied: six in /opt/conda/lib/python3.10/site-packages (from roboflow) (1.16.0)\r\n",
      "Collecting supervision (from roboflow)\r\n",
      "  Downloading supervision-0.15.0-py3-none-any.whl (69 kB)\r\n",
      "\u001b[2K     \u001b[90m━━━━━━━━━━━━━━━━━━━━━━━━━━━━━━━━━━━━━━━━\u001b[0m \u001b[32m69.0/69.0 kB\u001b[0m \u001b[31m7.9 MB/s\u001b[0m eta \u001b[36m0:00:00\u001b[0m\r\n",
      "\u001b[?25hRequirement already satisfied: urllib3>=1.26.6 in /opt/conda/lib/python3.10/site-packages (from roboflow) (1.26.15)\r\n",
      "Requirement already satisfied: tqdm>=4.41.0 in /opt/conda/lib/python3.10/site-packages (from roboflow) (4.65.0)\r\n",
      "Requirement already satisfied: PyYAML>=5.3.1 in /opt/conda/lib/python3.10/site-packages (from roboflow) (6.0)\r\n",
      "Requirement already satisfied: requests-toolbelt in /opt/conda/lib/python3.10/site-packages (from roboflow) (0.10.1)\r\n",
      "Requirement already satisfied: contourpy>=1.0.1 in /opt/conda/lib/python3.10/site-packages (from matplotlib->roboflow) (1.1.0)\r\n",
      "Requirement already satisfied: fonttools>=4.22.0 in /opt/conda/lib/python3.10/site-packages (from matplotlib->roboflow) (4.40.0)\r\n",
      "Requirement already satisfied: packaging>=20.0 in /opt/conda/lib/python3.10/site-packages (from matplotlib->roboflow) (21.3)\r\n",
      "Requirement already satisfied: charset-normalizer<4,>=2 in /opt/conda/lib/python3.10/site-packages (from requests->roboflow) (3.1.0)\r\n",
      "Requirement already satisfied: scipy<2.0.0,>=1.9.0 in /opt/conda/lib/python3.10/site-packages (from supervision->roboflow) (1.11.1)\r\n",
      "Installing collected packages: pyparsing, idna, cycler, chardet, certifi, supervision, roboflow\r\n",
      "  Attempting uninstall: pyparsing\r\n",
      "    Found existing installation: pyparsing 3.0.9\r\n",
      "    Uninstalling pyparsing-3.0.9:\r\n",
      "      Successfully uninstalled pyparsing-3.0.9\r\n",
      "  Attempting uninstall: idna\r\n",
      "    Found existing installation: idna 3.4\r\n",
      "    Uninstalling idna-3.4:\r\n",
      "      Successfully uninstalled idna-3.4\r\n",
      "  Attempting uninstall: cycler\r\n",
      "    Found existing installation: cycler 0.11.0\r\n",
      "    Uninstalling cycler-0.11.0:\r\n",
      "      Successfully uninstalled cycler-0.11.0\r\n",
      "  Attempting uninstall: certifi\r\n",
      "    Found existing installation: certifi 2023.5.7\r\n",
      "    Uninstalling certifi-2023.5.7:\r\n",
      "      Successfully uninstalled certifi-2023.5.7\r\n",
      "\u001b[31mERROR: pip's dependency resolver does not currently take into account all the packages that are installed. This behaviour is the source of the following dependency conflicts.\r\n",
      "jupyterlab-lsp 4.2.0 requires jupyter-lsp>=2.0.0, but you have jupyter-lsp 1.5.1 which is incompatible.\r\n",
      "momepy 0.6.0 requires shapely>=2, but you have shapely 1.8.5.post1 which is incompatible.\r\n",
      "pytoolconfig 1.2.5 requires packaging>=22.0, but you have packaging 21.3 which is incompatible.\r\n",
      "ydata-profiling 4.3.1 requires scipy<1.11,>=1.4.1, but you have scipy 1.11.1 which is incompatible.\u001b[0m\u001b[31m\r\n",
      "\u001b[0mSuccessfully installed certifi-2022.12.7 chardet-4.0.0 cycler-0.10.0 idna-2.10 pyparsing-2.4.7 roboflow-1.1.7 supervision-0.15.0\r\n"
     ]
    },
    {
     "name": "stderr",
     "output_type": "stream",
     "text": [
      "A NumPy version >=1.16.5 and <1.23.0 is required for this version of SciPy (detected version 1.23.5\n"
     ]
    },
    {
     "name": "stdout",
     "output_type": "stream",
     "text": [
      "loading Roboflow workspace...\n",
      "loading Roboflow project...\n",
      "Dependency ultralytics==8.0.134 is required but found version=8.0.196, to fix: `pip install ultralytics==8.0.134`\n"
     ]
    },
    {
     "name": "stderr",
     "output_type": "stream",
     "text": [
      "Downloading Dataset Version Zip in steel-1 to yolov8:: 100%|██████████| 366283/366283 [00:04<00:00, 74565.07it/s]"
     ]
    },
    {
     "name": "stdout",
     "output_type": "stream",
     "text": [
      "\n"
     ]
    },
    {
     "name": "stderr",
     "output_type": "stream",
     "text": [
      "\n",
      "Extracting Dataset Version Zip to steel-1 in yolov8:: 100%|██████████| 9006/9006 [00:01<00:00, 5724.75it/s]\n"
     ]
    }
   ],
   "source": [
    "!mkdir {HOME}/datasets\n",
    "%cd {HOME}/datasets\n",
    "\n",
    "!pip install roboflow\n",
    "\n",
    "from roboflow import Roboflow\n",
    "rf = Roboflow(api_key=\"D90rVo7ahGyBHqpqtBIH\")\n",
    "project = rf.workspace(\"indian-institute-of-information-technology-sricity\").project(\"steel-wnsz4\")\n",
    "dataset = project.version(1).download(\"yolov8\")\n"
   ]
  },
  {
   "cell_type": "code",
   "execution_count": 4,
   "id": "78762b0e",
   "metadata": {
    "execution": {
     "iopub.execute_input": "2023-10-12T06:54:41.921620Z",
     "iopub.status.busy": "2023-10-12T06:54:41.920795Z",
     "iopub.status.idle": "2023-10-12T06:55:49.191077Z",
     "shell.execute_reply": "2023-10-12T06:55:49.190029Z"
    },
    "id": "p37y1zfKkI-_",
    "outputId": "62bcacd9-7729-49eb-94b8-decad1376503",
    "papermill": {
     "duration": 67.27954,
     "end_time": "2023-10-12T06:55:49.193261",
     "exception": false,
     "start_time": "2023-10-12T06:54:41.913721",
     "status": "completed"
    },
    "tags": []
   },
   "outputs": [
    {
     "name": "stderr",
     "output_type": "stream",
     "text": [
      "\n",
      "                   from  n    params  module                                       arguments                     \n",
      "  0                  -1  1       464  ultralytics.nn.modules.conv.Conv             [3, 16, 3, 2]                 \n",
      "  1                  -1  1      4672  ultralytics.nn.modules.conv.Conv             [16, 32, 3, 2]                \n",
      "  2                  -1  1      7360  ultralytics.nn.modules.block.C2f             [32, 32, 1, True]             \n",
      "  3                  -1  1     18560  ultralytics.nn.modules.conv.Conv             [32, 64, 3, 2]                \n",
      "  4                  -1  2     49664  ultralytics.nn.modules.block.C2f             [64, 64, 2, True]             \n",
      "  5                  -1  1     73984  ultralytics.nn.modules.conv.Conv             [64, 128, 3, 2]               \n",
      "  6                  -1  2    197632  ultralytics.nn.modules.block.C2f             [128, 128, 2, True]           \n",
      "  7                  -1  1    295424  ultralytics.nn.modules.conv.Conv             [128, 256, 3, 2]              \n",
      "  8                  -1  1    460288  ultralytics.nn.modules.block.C2f             [256, 256, 1, True]           \n",
      "  9                  -1  1    164608  ultralytics.nn.modules.block.SPPF            [256, 256, 5]                 \n",
      " 10                  -1  1         0  torch.nn.modules.upsampling.Upsample         [None, 2, 'nearest']          \n",
      " 11             [-1, 6]  1         0  ultralytics.nn.modules.conv.Concat           [1]                           \n",
      " 12                  -1  1    148224  ultralytics.nn.modules.block.C2f             [384, 128, 1]                 \n",
      " 13                  -1  1         0  torch.nn.modules.upsampling.Upsample         [None, 2, 'nearest']          \n",
      " 14             [-1, 4]  1         0  ultralytics.nn.modules.conv.Concat           [1]                           \n",
      " 15                  -1  1     37248  ultralytics.nn.modules.block.C2f             [192, 64, 1]                  \n",
      " 16                  -1  1     36992  ultralytics.nn.modules.conv.Conv             [64, 64, 3, 2]                \n",
      " 17            [-1, 12]  1         0  ultralytics.nn.modules.conv.Concat           [1]                           \n",
      " 18                  -1  1    123648  ultralytics.nn.modules.block.C2f             [192, 128, 1]                 \n",
      " 19                  -1  1    147712  ultralytics.nn.modules.conv.Conv             [128, 128, 3, 2]              \n",
      " 20             [-1, 9]  1         0  ultralytics.nn.modules.conv.Concat           [1]                           \n",
      " 21                  -1  1    493056  ultralytics.nn.modules.block.C2f             [384, 256, 1]                 \n",
      " 22        [15, 18, 21]  1    897664  ultralytics.nn.modules.head.Detect           [80, [64, 128, 256]]          \n"
     ]
    },
    {
     "name": "stdout",
     "output_type": "stream",
     "text": [
      "/kaggle/working\n"
     ]
    },
    {
     "name": "stderr",
     "output_type": "stream",
     "text": [
      "YOLOv8n summary: 225 layers, 3157200 parameters, 3157184 gradients, 8.9 GFLOPs\n",
      "\n",
      "Downloading https://github.com/ultralytics/assets/releases/download/v0.0.0/yolov8n.pt to 'yolov8n.pt'...\n",
      "100%|██████████| 6.23M/6.23M [00:00<00:00, 75.6MB/s]\n",
      "Ultralytics YOLOv8.0.196 🚀 Python-3.10.12 torch-2.0.0 CUDA:0 (Tesla T4, 15110MiB)\n",
      "\u001b[34m\u001b[1mengine/trainer: \u001b[0mtask=detect, mode=train, model=yolov8n.pt, data=coco128.yaml, epochs=3, patience=50, batch=16, imgsz=640, save=True, save_period=-1, cache=False, device=None, workers=8, project=None, name=None, exist_ok=False, pretrained=True, optimizer=auto, verbose=True, seed=0, deterministic=True, single_cls=False, rect=False, cos_lr=False, close_mosaic=10, resume=False, amp=True, fraction=1.0, profile=False, freeze=None, overlap_mask=True, mask_ratio=4, dropout=0.0, val=True, split=val, save_json=False, save_hybrid=False, conf=None, iou=0.7, max_det=300, half=False, dnn=False, plots=True, source=None, show=False, save_txt=False, save_conf=False, save_crop=False, show_labels=True, show_conf=True, vid_stride=1, stream_buffer=False, line_width=None, visualize=False, augment=False, agnostic_nms=False, classes=None, retina_masks=False, boxes=True, format=torchscript, keras=False, optimize=False, int8=False, dynamic=False, simplify=False, opset=None, workspace=4, nms=False, lr0=0.01, lrf=0.01, momentum=0.937, weight_decay=0.0005, warmup_epochs=3.0, warmup_momentum=0.8, warmup_bias_lr=0.1, box=7.5, cls=0.5, dfl=1.5, pose=12.0, kobj=1.0, label_smoothing=0.0, nbs=64, hsv_h=0.015, hsv_s=0.7, hsv_v=0.4, degrees=0.0, translate=0.1, scale=0.5, shear=0.0, perspective=0.0, flipud=0.0, fliplr=0.5, mosaic=1.0, mixup=0.0, copy_paste=0.0, cfg=None, tracker=botsort.yaml, save_dir=runs/detect/train\n",
      "\n",
      "Dataset 'coco128.yaml' images not found ⚠️, missing path '/kaggle/working/datasets/coco128/images/train2017'\n",
      "Downloading https://ultralytics.com/assets/coco128.zip to '/kaggle/working/datasets/coco128.zip'...\n",
      "100%|██████████| 6.66M/6.66M [00:00<00:00, 28.2MB/s]\n",
      "Unzipping /kaggle/working/datasets/coco128.zip to /kaggle/working/datasets/coco128...: 100%|██████████| 263/263 [00:00<00:00, 4320.59file/s]\n",
      "Dataset download success ✅ (1.3s), saved to \u001b[1m/kaggle/working/datasets\u001b[0m\n",
      "\n",
      "Downloading https://ultralytics.com/assets/Arial.ttf to '/root/.config/Ultralytics/Arial.ttf'...\n",
      "100%|██████████| 755k/755k [00:00<00:00, 18.1MB/s]\n",
      "unable to load libtensorflow_io_plugins.so: unable to open file: libtensorflow_io_plugins.so, from paths: ['/opt/conda/lib/python3.10/site-packages/tensorflow_io/python/ops/libtensorflow_io_plugins.so']\n",
      "caused by: ['/opt/conda/lib/python3.10/site-packages/tensorflow_io/python/ops/libtensorflow_io_plugins.so: undefined symbol: _ZN3tsl6StatusC1EN10tensorflow5error4CodeESt17basic_string_viewIcSt11char_traitsIcEENS_14SourceLocationE']\n",
      "file system plugins are not loaded: unable to open file: libtensorflow_io.so, from paths: ['/opt/conda/lib/python3.10/site-packages/tensorflow_io/python/ops/libtensorflow_io.so']\n",
      "caused by: ['/opt/conda/lib/python3.10/site-packages/tensorflow_io/python/ops/libtensorflow_io.so: undefined symbol: _ZTVN10tensorflow13GcsFileSystemE']\n",
      "\n",
      "                   from  n    params  module                                       arguments                     \n",
      "  0                  -1  1       464  ultralytics.nn.modules.conv.Conv             [3, 16, 3, 2]                 \n",
      "  1                  -1  1      4672  ultralytics.nn.modules.conv.Conv             [16, 32, 3, 2]                \n",
      "  2                  -1  1      7360  ultralytics.nn.modules.block.C2f             [32, 32, 1, True]             \n",
      "  3                  -1  1     18560  ultralytics.nn.modules.conv.Conv             [32, 64, 3, 2]                \n",
      "  4                  -1  2     49664  ultralytics.nn.modules.block.C2f             [64, 64, 2, True]             \n",
      "  5                  -1  1     73984  ultralytics.nn.modules.conv.Conv             [64, 128, 3, 2]               \n",
      "  6                  -1  2    197632  ultralytics.nn.modules.block.C2f             [128, 128, 2, True]           \n",
      "  7                  -1  1    295424  ultralytics.nn.modules.conv.Conv             [128, 256, 3, 2]              \n",
      "  8                  -1  1    460288  ultralytics.nn.modules.block.C2f             [256, 256, 1, True]           \n",
      "  9                  -1  1    164608  ultralytics.nn.modules.block.SPPF            [256, 256, 5]                 \n",
      " 10                  -1  1         0  torch.nn.modules.upsampling.Upsample         [None, 2, 'nearest']          \n",
      " 11             [-1, 6]  1         0  ultralytics.nn.modules.conv.Concat           [1]                           \n",
      " 12                  -1  1    148224  ultralytics.nn.modules.block.C2f             [384, 128, 1]                 \n",
      " 13                  -1  1         0  torch.nn.modules.upsampling.Upsample         [None, 2, 'nearest']          \n",
      " 14             [-1, 4]  1         0  ultralytics.nn.modules.conv.Concat           [1]                           \n",
      " 15                  -1  1     37248  ultralytics.nn.modules.block.C2f             [192, 64, 1]                  \n",
      " 16                  -1  1     36992  ultralytics.nn.modules.conv.Conv             [64, 64, 3, 2]                \n",
      " 17            [-1, 12]  1         0  ultralytics.nn.modules.conv.Concat           [1]                           \n",
      " 18                  -1  1    123648  ultralytics.nn.modules.block.C2f             [192, 128, 1]                 \n",
      " 19                  -1  1    147712  ultralytics.nn.modules.conv.Conv             [128, 128, 3, 2]              \n",
      " 20             [-1, 9]  1         0  ultralytics.nn.modules.conv.Concat           [1]                           \n",
      " 21                  -1  1    493056  ultralytics.nn.modules.block.C2f             [384, 256, 1]                 \n",
      " 22        [15, 18, 21]  1    897664  ultralytics.nn.modules.head.Detect           [80, [64, 128, 256]]          \n",
      "Model summary: 225 layers, 3157200 parameters, 3157184 gradients, 8.9 GFLOPs\n",
      "\n",
      "Transferred 355/355 items from pretrained weights\n",
      "\u001b[34m\u001b[1mTensorBoard: \u001b[0mStart with 'tensorboard --logdir runs/detect/train', view at http://localhost:6006/\n",
      "Freezing layer 'model.22.dfl.conv.weight'\n",
      "\u001b[34m\u001b[1mAMP: \u001b[0mrunning Automatic Mixed Precision (AMP) checks with YOLOv8n...\n",
      "\u001b[34m\u001b[1mAMP: \u001b[0mchecks passed ✅\n",
      "\u001b[34m\u001b[1mtrain: \u001b[0mScanning /kaggle/working/datasets/coco128/labels/train2017... 126 images, 2 backgrounds, 0 corrupt: 100%|██████████| 128/128 [00:00<00:00, 1736.72it/s]\n",
      "\u001b[34m\u001b[1mtrain: \u001b[0mNew cache created: /kaggle/working/datasets/coco128/labels/train2017.cache\n",
      "\u001b[34m\u001b[1malbumentations: \u001b[0mBlur(p=0.01, blur_limit=(3, 7)), MedianBlur(p=0.01, blur_limit=(3, 7)), ToGray(p=0.01), CLAHE(p=0.01, clip_limit=(1, 4.0), tile_grid_size=(8, 8))\n",
      "\u001b[34m\u001b[1mval: \u001b[0mScanning /kaggle/working/datasets/coco128/labels/train2017.cache... 126 images, 2 backgrounds, 0 corrupt: 100%|██████████| 128/128 [00:00<?, ?it/s]\n",
      "Plotting labels to runs/detect/train/labels.jpg... \n",
      "\u001b[34m\u001b[1moptimizer:\u001b[0m 'optimizer=auto' found, ignoring 'lr0=0.01' and 'momentum=0.937' and determining best 'optimizer', 'lr0' and 'momentum' automatically... \n",
      "\u001b[34m\u001b[1moptimizer:\u001b[0m AdamW(lr=0.000119, momentum=0.9) with parameter groups 57 weight(decay=0.0), 64 weight(decay=0.0005), 63 bias(decay=0.0)\n",
      "Image sizes 640 train, 640 val\n",
      "Using 1 dataloader workers\n",
      "Logging results to \u001b[1mruns/detect/train\u001b[0m\n",
      "Starting training for 3 epochs...\n",
      "\n",
      "      Epoch    GPU_mem   box_loss   cls_loss   dfl_loss  Instances       Size\n",
      "        1/3      2.67G      1.119      1.549      1.223        201        640: 100%|██████████| 8/8 [00:04<00:00,  1.71it/s]\n",
      "                 Class     Images  Instances      Box(P          R      mAP50  mAP50-95): 100%|██████████| 4/4 [00:03<00:00,  1.22it/s]\n",
      "                   all        128        929      0.643      0.525      0.599      0.439\n",
      "\n",
      "      Epoch    GPU_mem   box_loss   cls_loss   dfl_loss  Instances       Size\n",
      "        2/3      2.61G      1.236       1.43      1.245        166        640: 100%|██████████| 8/8 [00:02<00:00,  3.55it/s]\n",
      "                 Class     Images  Instances      Box(P          R      mAP50  mAP50-95): 100%|██████████| 4/4 [00:01<00:00,  2.98it/s]\n",
      "                   all        128        929       0.65       0.56      0.628      0.465\n",
      "\n",
      "      Epoch    GPU_mem   box_loss   cls_loss   dfl_loss  Instances       Size\n",
      "        3/3      2.62G      1.176      1.373      1.225        236        640: 100%|██████████| 8/8 [00:02<00:00,  3.77it/s]\n",
      "                 Class     Images  Instances      Box(P          R      mAP50  mAP50-95): 100%|██████████| 4/4 [00:01<00:00,  2.76it/s]\n",
      "                   all        128        929      0.693      0.542      0.634       0.47\n",
      "\n",
      "3 epochs completed in 0.006 hours.\n",
      "Optimizer stripped from runs/detect/train/weights/last.pt, 6.5MB\n",
      "Optimizer stripped from runs/detect/train/weights/best.pt, 6.5MB\n",
      "\n",
      "Validating runs/detect/train/weights/best.pt...\n",
      "Ultralytics YOLOv8.0.196 🚀 Python-3.10.12 torch-2.0.0 CUDA:0 (Tesla T4, 15110MiB)\n",
      "Model summary (fused): 168 layers, 3151904 parameters, 0 gradients, 8.7 GFLOPs\n",
      "                 Class     Images  Instances      Box(P          R      mAP50  mAP50-95): 100%|██████████| 4/4 [00:02<00:00,  1.34it/s]\n",
      "                   all        128        929      0.697      0.539      0.633      0.469\n",
      "                person        128        254      0.829       0.65      0.771      0.548\n",
      "               bicycle        128          6      0.613      0.333       0.32      0.268\n",
      "                   car        128         46      0.879      0.217      0.274       0.17\n",
      "            motorcycle        128          5      0.816      0.895      0.962      0.747\n",
      "              airplane        128          6      0.813      0.734      0.871      0.646\n",
      "                   bus        128          7        0.7      0.714       0.72      0.602\n",
      "                 train        128          3      0.555      0.667      0.806      0.743\n",
      "                 truck        128         12          1      0.327      0.494      0.293\n",
      "                  boat        128          6       0.39      0.224        0.4      0.262\n",
      "         traffic light        128         14      0.737      0.203      0.206       0.14\n",
      "             stop sign        128          2          1      0.952      0.995      0.705\n",
      "                 bench        128          9      0.777      0.394      0.628      0.371\n",
      "                  bird        128         16      0.922      0.736      0.927      0.556\n",
      "                   cat        128          4      0.895          1      0.995      0.843\n",
      "                   dog        128          9      0.682      0.778      0.838      0.623\n",
      "                 horse        128          2      0.578          1      0.995       0.56\n",
      "              elephant        128         17      0.969      0.824      0.854      0.693\n",
      "                  bear        128          1      0.673          1      0.995      0.995\n",
      "                 zebra        128          4      0.869          1      0.995      0.965\n",
      "               giraffe        128          9      0.807      0.889      0.955      0.716\n",
      "              backpack        128          6      0.698      0.396      0.431      0.293\n",
      "              umbrella        128         18      0.763        0.5      0.668      0.471\n",
      "               handbag        128         19      0.258     0.0271      0.158     0.0867\n",
      "                   tie        128          7      0.679      0.609      0.659      0.466\n",
      "              suitcase        128          4       0.65          1      0.845      0.579\n",
      "               frisbee        128          5       0.66      0.779      0.733      0.633\n",
      "                  skis        128          1       0.62          1      0.995      0.412\n",
      "             snowboard        128          7      0.696      0.714      0.692      0.455\n",
      "           sports ball        128          6      0.715       0.43       0.53      0.305\n",
      "                  kite        128         10      0.767        0.4      0.545      0.187\n",
      "          baseball bat        128          4      0.606        0.5      0.467      0.196\n",
      "        baseball glove        128          7      0.704      0.429      0.429      0.316\n",
      "            skateboard        128          5      0.817        0.6        0.6      0.426\n",
      "         tennis racket        128          7      0.545      0.286      0.412      0.306\n",
      "                bottle        128         18      0.535      0.333      0.389      0.233\n",
      "            wine glass        128         16      0.627      0.312       0.56      0.316\n",
      "                   cup        128         36       0.76      0.265      0.428      0.288\n",
      "                  fork        128          6          1      0.288      0.368      0.254\n",
      "                 knife        128         16       0.71      0.612       0.62      0.352\n",
      "                 spoon        128         22      0.715      0.182      0.357      0.201\n",
      "                  bowl        128         28      0.748      0.636       0.64      0.534\n",
      "                banana        128          1    0.00892     0.0446      0.199     0.0529\n",
      "              sandwich        128          2      0.722        0.5      0.745      0.745\n",
      "                orange        128          4          1      0.445      0.995      0.666\n",
      "              broccoli        128         11      0.546      0.182      0.255      0.213\n",
      "                carrot        128         24      0.646      0.542      0.716      0.441\n",
      "               hot dog        128          2      0.546          1      0.828      0.795\n",
      "                 pizza        128          5      0.682          1      0.962       0.84\n",
      "                 donut        128         14      0.601          1        0.9      0.809\n",
      "                  cake        128          4      0.838          1      0.995      0.859\n",
      "                 chair        128         35      0.491      0.468      0.444      0.264\n",
      "                 couch        128          6      0.542      0.333      0.605       0.47\n",
      "          potted plant        128         14      0.593        0.5      0.663      0.453\n",
      "                   bed        128          3          1      0.657      0.913      0.719\n",
      "          dining table        128         13      0.641      0.538      0.537      0.423\n",
      "                toilet        128          2       0.67        0.5      0.828      0.745\n",
      "                    tv        128          2      0.565        0.5      0.695      0.606\n",
      "                laptop        128          3          1          0      0.626      0.528\n",
      "                 mouse        128          2          1          0     0.0297    0.00297\n",
      "                remote        128          8      0.875        0.5      0.576      0.486\n",
      "            cell phone        128          8          0          0     0.0486     0.0229\n",
      "             microwave        128          3      0.674          1      0.913      0.766\n",
      "                  oven        128          5      0.378        0.4      0.365      0.284\n",
      "                  sink        128          6      0.366      0.167      0.274      0.183\n",
      "          refrigerator        128          5      0.574        0.4      0.633      0.504\n",
      "                  book        128         29      0.644      0.103      0.307       0.16\n",
      "                 clock        128          9      0.836      0.778      0.897      0.751\n",
      "                  vase        128          2      0.442          1      0.828      0.795\n",
      "              scissors        128          1          1          0      0.166     0.0385\n",
      "            teddy bear        128         21      0.802      0.386      0.626      0.416\n",
      "            toothbrush        128          5          1      0.468      0.839      0.523\n",
      "Speed: 3.1ms preprocess, 2.4ms inference, 0.0ms loss, 2.1ms postprocess per image\n",
      "Results saved to \u001b[1mruns/detect/train\u001b[0m\n"
     ]
    }
   ],
   "source": [
    "from ultralytics import YOLO\n",
    "%cd {HOME}\n",
    "from ultralytics import YOLO\n",
    "\n",
    "# Create a new YOLO model from scratch\n",
    "model = YOLO('yolov8n.yaml')\n",
    "\n",
    "# Load a pretrained YOLO model (recommended for training)\n",
    "model = YOLO('yolov8n.pt')\n",
    "\n",
    "# # Train the model using the 'coco128.yaml' dataset for 3 epochs\n",
    "results = model.train(data='coco128.yaml', epochs=3)"
   ]
  },
  {
   "cell_type": "code",
   "execution_count": 5,
   "id": "ab01c956",
   "metadata": {
    "execution": {
     "iopub.execute_input": "2023-10-12T06:55:49.231184Z",
     "iopub.status.busy": "2023-10-12T06:55:49.230911Z",
     "iopub.status.idle": "2023-10-12T06:55:49.237291Z",
     "shell.execute_reply": "2023-10-12T06:55:49.236352Z"
    },
    "papermill": {
     "duration": 0.027904,
     "end_time": "2023-10-12T06:55:49.239060",
     "exception": false,
     "start_time": "2023-10-12T06:55:49.211156",
     "status": "completed"
    },
    "tags": []
   },
   "outputs": [
    {
     "name": "stdout",
     "output_type": "stream",
     "text": [
      "/kaggle/working/datasets/steel-1\n"
     ]
    }
   ],
   "source": [
    "%cd /kaggle/working/datasets/steel-1"
   ]
  },
  {
   "cell_type": "code",
   "execution_count": 6,
   "id": "b68fafe7",
   "metadata": {
    "execution": {
     "iopub.execute_input": "2023-10-12T06:55:49.274547Z",
     "iopub.status.busy": "2023-10-12T06:55:49.273906Z",
     "iopub.status.idle": "2023-10-12T07:03:54.304131Z",
     "shell.execute_reply": "2023-10-12T07:03:54.303015Z"
    },
    "papermill": {
     "duration": 485.0503,
     "end_time": "2023-10-12T07:03:54.306440",
     "exception": false,
     "start_time": "2023-10-12T06:55:49.256140",
     "status": "completed"
    },
    "tags": []
   },
   "outputs": [
    {
     "name": "stderr",
     "output_type": "stream",
     "text": [
      "Ultralytics YOLOv8.0.196 🚀 Python-3.10.12 torch-2.0.0 CUDA:0 (Tesla T4, 15110MiB)\n",
      "\u001b[34m\u001b[1mengine/trainer: \u001b[0mtask=detect, mode=train, model=yolov8n.pt, data=data.yaml, epochs=5, patience=50, batch=16, imgsz=640, save=True, save_period=-1, cache=False, device=None, workers=8, project=None, name=None, exist_ok=False, pretrained=True, optimizer=auto, verbose=True, seed=0, deterministic=True, single_cls=False, rect=False, cos_lr=False, close_mosaic=10, resume=False, amp=True, fraction=1.0, profile=False, freeze=None, overlap_mask=True, mask_ratio=4, dropout=0.0, val=True, split=val, save_json=False, save_hybrid=False, conf=None, iou=0.7, max_det=300, half=False, dnn=False, plots=True, source=None, show=False, save_txt=False, save_conf=False, save_crop=False, show_labels=True, show_conf=True, vid_stride=1, stream_buffer=False, line_width=None, visualize=False, augment=False, agnostic_nms=False, classes=None, retina_masks=False, boxes=True, format=torchscript, keras=False, optimize=False, int8=False, dynamic=False, simplify=False, opset=None, workspace=4, nms=False, lr0=0.01, lrf=0.01, momentum=0.937, weight_decay=0.0005, warmup_epochs=3.0, warmup_momentum=0.8, warmup_bias_lr=0.0, box=7.5, cls=0.5, dfl=1.5, pose=12.0, kobj=1.0, label_smoothing=0.0, nbs=64, hsv_h=0.015, hsv_s=0.7, hsv_v=0.4, degrees=0.0, translate=0.1, scale=0.5, shear=0.0, perspective=0.0, flipud=0.0, fliplr=0.5, mosaic=1.0, mixup=0.0, copy_paste=0.0, cfg=None, tracker=botsort.yaml, save_dir=runs/detect/train\n",
      "Overriding model.yaml nc=80 with nc=6\n",
      "\n",
      "                   from  n    params  module                                       arguments                     \n",
      "  0                  -1  1       464  ultralytics.nn.modules.conv.Conv             [3, 16, 3, 2]                 \n",
      "  1                  -1  1      4672  ultralytics.nn.modules.conv.Conv             [16, 32, 3, 2]                \n",
      "  2                  -1  1      7360  ultralytics.nn.modules.block.C2f             [32, 32, 1, True]             \n",
      "  3                  -1  1     18560  ultralytics.nn.modules.conv.Conv             [32, 64, 3, 2]                \n",
      "  4                  -1  2     49664  ultralytics.nn.modules.block.C2f             [64, 64, 2, True]             \n",
      "  5                  -1  1     73984  ultralytics.nn.modules.conv.Conv             [64, 128, 3, 2]               \n",
      "  6                  -1  2    197632  ultralytics.nn.modules.block.C2f             [128, 128, 2, True]           \n",
      "  7                  -1  1    295424  ultralytics.nn.modules.conv.Conv             [128, 256, 3, 2]              \n",
      "  8                  -1  1    460288  ultralytics.nn.modules.block.C2f             [256, 256, 1, True]           \n",
      "  9                  -1  1    164608  ultralytics.nn.modules.block.SPPF            [256, 256, 5]                 \n",
      " 10                  -1  1         0  torch.nn.modules.upsampling.Upsample         [None, 2, 'nearest']          \n",
      " 11             [-1, 6]  1         0  ultralytics.nn.modules.conv.Concat           [1]                           \n",
      " 12                  -1  1    148224  ultralytics.nn.modules.block.C2f             [384, 128, 1]                 \n",
      " 13                  -1  1         0  torch.nn.modules.upsampling.Upsample         [None, 2, 'nearest']          \n",
      " 14             [-1, 4]  1         0  ultralytics.nn.modules.conv.Concat           [1]                           \n",
      " 15                  -1  1     37248  ultralytics.nn.modules.block.C2f             [192, 64, 1]                  \n",
      " 16                  -1  1     36992  ultralytics.nn.modules.conv.Conv             [64, 64, 3, 2]                \n",
      " 17            [-1, 12]  1         0  ultralytics.nn.modules.conv.Concat           [1]                           \n",
      " 18                  -1  1    123648  ultralytics.nn.modules.block.C2f             [192, 128, 1]                 \n",
      " 19                  -1  1    147712  ultralytics.nn.modules.conv.Conv             [128, 128, 3, 2]              \n",
      " 20             [-1, 9]  1         0  ultralytics.nn.modules.conv.Concat           [1]                           \n",
      " 21                  -1  1    493056  ultralytics.nn.modules.block.C2f             [384, 256, 1]                 \n",
      " 22        [15, 18, 21]  1    752482  ultralytics.nn.modules.head.Detect           [6, [64, 128, 256]]           \n",
      "Model summary: 225 layers, 3012018 parameters, 3012002 gradients, 8.2 GFLOPs\n",
      "\n",
      "Transferred 319/355 items from pretrained weights\n",
      "\u001b[34m\u001b[1mTensorBoard: \u001b[0mStart with 'tensorboard --logdir runs/detect/train', view at http://localhost:6006/\n",
      "Freezing layer 'model.22.dfl.conv.weight'\n",
      "\u001b[34m\u001b[1mAMP: \u001b[0mrunning Automatic Mixed Precision (AMP) checks with YOLOv8n...\n",
      "Downloading https://github.com/ultralytics/assets/releases/download/v0.0.0/yolov8n.pt to 'yolov8n.pt'...\n",
      "100%|██████████| 6.23M/6.23M [00:00<00:00, 84.4MB/s]\n",
      "\u001b[34m\u001b[1mAMP: \u001b[0mchecks passed ✅\n",
      "\u001b[34m\u001b[1mtrain: \u001b[0mScanning /kaggle/working/datasets/steel-1/train/labels... 4047 images, 0 backgrounds, 0 corrupt: 100%|██████████| 4047/4047 [00:02<00:00, 1976.07it/s]\n",
      "\u001b[34m\u001b[1mtrain: \u001b[0mWARNING ⚠️ /kaggle/working/datasets/steel-1/train/images/crazing_120_jpg.rf.290cd888feb703354aa055c628a459a8.jpg: 1 duplicate labels removed\n",
      "\u001b[34m\u001b[1mtrain: \u001b[0mWARNING ⚠️ /kaggle/working/datasets/steel-1/train/images/crazing_120_jpg.rf.3c453bf7694b0ba2abb23dcf1e4524f9.jpg: 1 duplicate labels removed\n",
      "\u001b[34m\u001b[1mtrain: \u001b[0mWARNING ⚠️ /kaggle/working/datasets/steel-1/train/images/crazing_120_jpg.rf.b6d377978047defd9ab68723a556d6e0.jpg: 1 duplicate labels removed\n",
      "\u001b[34m\u001b[1mtrain: \u001b[0mWARNING ⚠️ /kaggle/working/datasets/steel-1/train/images/inclusion_62_jpg.rf.7203bfb57e0ca16f5867dedeee132b22.jpg: 1 duplicate labels removed\n",
      "\u001b[34m\u001b[1mtrain: \u001b[0mWARNING ⚠️ /kaggle/working/datasets/steel-1/train/images/inclusion_62_jpg.rf.baa543303e60b4f20d3a9b97926301aa.jpg: 1 duplicate labels removed\n",
      "\u001b[34m\u001b[1mtrain: \u001b[0mWARNING ⚠️ /kaggle/working/datasets/steel-1/train/images/inclusion_62_jpg.rf.cce1d92f24dccee42dbecc2d06c286b8.jpg: 1 duplicate labels removed\n",
      "\u001b[34m\u001b[1mtrain: \u001b[0mWARNING ⚠️ /kaggle/working/datasets/steel-1/train/images/patches_198_jpg.rf.10454f0ad484df566915cce308e5aa37.jpg: 1 duplicate labels removed\n",
      "\u001b[34m\u001b[1mtrain: \u001b[0mWARNING ⚠️ /kaggle/working/datasets/steel-1/train/images/patches_198_jpg.rf.7442bbb432157a8b38725a0bb4aa057d.jpg: 1 duplicate labels removed\n",
      "\u001b[34m\u001b[1mtrain: \u001b[0mWARNING ⚠️ /kaggle/working/datasets/steel-1/train/images/patches_198_jpg.rf.b031365f243d394e818e5e96036068a3.jpg: 1 duplicate labels removed\n",
      "\u001b[34m\u001b[1mtrain: \u001b[0mNew cache created: /kaggle/working/datasets/steel-1/train/labels.cache\n",
      "\u001b[34m\u001b[1malbumentations: \u001b[0mBlur(p=0.01, blur_limit=(3, 7)), MedianBlur(p=0.01, blur_limit=(3, 7)), ToGray(p=0.01), CLAHE(p=0.01, clip_limit=(1, 4.0), tile_grid_size=(8, 8))\n",
      "\u001b[34m\u001b[1mval: \u001b[0mScanning /kaggle/working/datasets/steel-1/valid/labels... 270 images, 0 backgrounds, 0 corrupt: 100%|██████████| 270/270 [00:00<00:00, 1579.61it/s]\n",
      "\u001b[34m\u001b[1mval: \u001b[0mNew cache created: /kaggle/working/datasets/steel-1/valid/labels.cache\n",
      "Plotting labels to runs/detect/train/labels.jpg... \n",
      "\u001b[34m\u001b[1moptimizer:\u001b[0m 'optimizer=auto' found, ignoring 'lr0=0.01' and 'momentum=0.937' and determining best 'optimizer', 'lr0' and 'momentum' automatically... \n",
      "\u001b[34m\u001b[1moptimizer:\u001b[0m AdamW(lr=0.001, momentum=0.9) with parameter groups 57 weight(decay=0.0), 64 weight(decay=0.0005), 63 bias(decay=0.0)\n",
      "Image sizes 640 train, 640 val\n",
      "Using 1 dataloader workers\n",
      "Logging results to \u001b[1mruns/detect/train\u001b[0m\n",
      "Starting training for 5 epochs...\n",
      "\n",
      "      Epoch    GPU_mem   box_loss   cls_loss   dfl_loss  Instances       Size\n",
      "        1/5      2.37G      1.684      2.776      1.857         70        640: 100%|██████████| 253/253 [01:31<00:00,  2.78it/s]\n",
      "                 Class     Images  Instances      Box(P          R      mAP50  mAP50-95): 100%|██████████| 9/9 [00:02<00:00,  3.09it/s]\n",
      "                   all        270        637      0.276      0.454       0.37      0.149\n",
      "\n",
      "      Epoch    GPU_mem   box_loss   cls_loss   dfl_loss  Instances       Size\n",
      "        2/5      2.38G      1.576      2.113      1.725         73        640: 100%|██████████| 253/253 [01:28<00:00,  2.86it/s]\n",
      "                 Class     Images  Instances      Box(P          R      mAP50  mAP50-95): 100%|██████████| 9/9 [00:02<00:00,  3.25it/s]\n",
      "                   all        270        637      0.508      0.467       0.46       0.21\n",
      "\n",
      "      Epoch    GPU_mem   box_loss   cls_loss   dfl_loss  Instances       Size\n",
      "        3/5      2.37G      1.527      1.929      1.679         49        640: 100%|██████████| 253/253 [01:28<00:00,  2.86it/s]\n",
      "                 Class     Images  Instances      Box(P          R      mAP50  mAP50-95): 100%|██████████| 9/9 [00:02<00:00,  3.30it/s]\n",
      "                   all        270        637      0.509      0.592      0.559      0.251\n",
      "\n",
      "      Epoch    GPU_mem   box_loss   cls_loss   dfl_loss  Instances       Size\n",
      "        4/5      2.37G       1.48      1.799      1.647         78        640: 100%|██████████| 253/253 [01:28<00:00,  2.87it/s]\n",
      "                 Class     Images  Instances      Box(P          R      mAP50  mAP50-95): 100%|██████████| 9/9 [00:02<00:00,  3.28it/s]\n",
      "                   all        270        637      0.624       0.61      0.649      0.308\n",
      "\n",
      "      Epoch    GPU_mem   box_loss   cls_loss   dfl_loss  Instances       Size\n",
      "        5/5      2.37G      1.443      1.702      1.615         66        640: 100%|██████████| 253/253 [01:28<00:00,  2.87it/s]\n",
      "                 Class     Images  Instances      Box(P          R      mAP50  mAP50-95): 100%|██████████| 9/9 [00:02<00:00,  3.11it/s]\n",
      "                   all        270        637      0.536      0.621      0.635      0.317\n",
      "\n",
      "5 epochs completed in 0.130 hours.\n",
      "Optimizer stripped from runs/detect/train/weights/last.pt, 6.2MB\n",
      "Optimizer stripped from runs/detect/train/weights/best.pt, 6.2MB\n",
      "\n",
      "Validating runs/detect/train/weights/best.pt...\n",
      "Ultralytics YOLOv8.0.196 🚀 Python-3.10.12 torch-2.0.0 CUDA:0 (Tesla T4, 15110MiB)\n",
      "Model summary (fused): 168 layers, 3006818 parameters, 0 gradients, 8.1 GFLOPs\n",
      "                 Class     Images  Instances      Box(P          R      mAP50  mAP50-95): 100%|██████████| 9/9 [00:04<00:00,  1.83it/s]\n",
      "                   all        270        637      0.534      0.619      0.636      0.317\n",
      "               crazing        270         85      0.405     0.0471      0.273     0.0926\n",
      "             inclusion        270        152      0.386      0.717      0.561      0.253\n",
      "               patches        270        148      0.594      0.858      0.833      0.475\n",
      "        pitted_surface        270         42      0.845      0.648       0.84      0.504\n",
      "       rolled-in_scale        270        100      0.472        0.5      0.467      0.199\n",
      "             scratches        270        110      0.502      0.945      0.838      0.376\n",
      "Speed: 1.9ms preprocess, 3.3ms inference, 0.0ms loss, 2.0ms postprocess per image\n",
      "Results saved to \u001b[1mruns/detect/train\u001b[0m\n"
     ]
    }
   ],
   "source": [
    "results = model.train(data='data.yaml', epochs=5)"
   ]
  },
  {
   "cell_type": "code",
   "execution_count": 7,
   "id": "4a1d2b2e",
   "metadata": {
    "execution": {
     "iopub.execute_input": "2023-10-12T07:03:54.579266Z",
     "iopub.status.busy": "2023-10-12T07:03:54.578921Z",
     "iopub.status.idle": "2023-10-12T07:04:17.717189Z",
     "shell.execute_reply": "2023-10-12T07:04:17.715818Z"
    },
    "id": "p37y1zfKkI-_",
    "outputId": "62bcacd9-7729-49eb-94b8-decad1376503",
    "papermill": {
     "duration": 23.278253,
     "end_time": "2023-10-12T07:04:17.720474",
     "exception": false,
     "start_time": "2023-10-12T07:03:54.442221",
     "status": "completed"
    },
    "tags": []
   },
   "outputs": [
    {
     "name": "stderr",
     "output_type": "stream",
     "text": [
      "Ultralytics YOLOv8.0.196 🚀 Python-3.10.12 torch-2.0.0 CUDA:0 (Tesla T4, 15110MiB)\n",
      "Model summary (fused): 168 layers, 3006818 parameters, 0 gradients, 8.1 GFLOPs\n",
      "\u001b[34m\u001b[1mval: \u001b[0mScanning /kaggle/working/datasets/steel-1/valid/labels.cache... 270 images, 0 backgrounds, 0 corrupt: 100%|██████████| 270/270 [00:00<?, ?it/s]\n",
      "                 Class     Images  Instances      Box(P          R      mAP50  mAP50-95): 100%|██████████| 17/17 [00:05<00:00,  3.04it/s]\n",
      "                   all        270        637      0.546      0.634      0.636      0.316\n",
      "               crazing        270         85      0.493     0.0706      0.272     0.0929\n",
      "             inclusion        270        152       0.38      0.717      0.564      0.255\n",
      "               patches        270        148      0.582      0.865      0.832      0.473\n",
      "        pitted_surface        270         42      0.852      0.688      0.842      0.504\n",
      "       rolled-in_scale        270        100      0.461       0.51      0.466      0.199\n",
      "             scratches        270        110      0.509      0.955      0.841      0.374\n",
      "Speed: 3.2ms preprocess, 5.5ms inference, 0.0ms loss, 2.3ms postprocess per image\n",
      "Results saved to \u001b[1mruns/detect/val\u001b[0m\n",
      "Ultralytics YOLOv8.0.196 🚀 Python-3.10.12 torch-2.0.0 CPU (Intel Xeon 2.00GHz)\n",
      "\n",
      "\u001b[34m\u001b[1mPyTorch:\u001b[0m starting from 'runs/detect/train/weights/best.pt' with input shape (1, 3, 640, 640) BCHW and output shape(s) (1, 10, 8400) (6.0 MB)\n",
      "\n",
      "\u001b[34m\u001b[1mONNX:\u001b[0m starting export with onnx 1.14.0 opset 17...\n",
      "\u001b[34m\u001b[1mONNX:\u001b[0m export success ✅ 0.9s, saved as 'runs/detect/train/weights/best.onnx' (11.7 MB)\n",
      "\n",
      "Export complete (2.5s)\n",
      "Results saved to \u001b[1m/kaggle/working/datasets/steel-1/runs/detect/train/weights\u001b[0m\n",
      "Predict:         yolo predict task=detect model=runs/detect/train/weights/best.onnx imgsz=640  \n",
      "Validate:        yolo val task=detect model=runs/detect/train/weights/best.onnx imgsz=640 data=data.yaml  \n",
      "Visualize:       https://netron.app\n"
     ]
    },
    {
     "name": "stdout",
     "output_type": "stream",
     "text": [
      "================ Diagnostic Run torch.onnx.export version 2.0.0 ================\n",
      "verbose: False, log level: Level.ERROR\n",
      "======================= 0 NONE 0 NOTE 0 WARNING 0 ERROR ========================\n",
      "\n"
     ]
    }
   ],
   "source": [
    "# Evaluate the model's performance on the validation set\n",
    "results = model.val()\n",
    "\n",
    "# Export the model to ONNX format\n",
    "success = model.export(format='onnx')"
   ]
  },
  {
   "cell_type": "code",
   "execution_count": null,
   "id": "cb2c3682",
   "metadata": {
    "papermill": {
     "duration": 0.137216,
     "end_time": "2023-10-12T07:04:17.997639",
     "exception": false,
     "start_time": "2023-10-12T07:04:17.860423",
     "status": "completed"
    },
    "tags": []
   },
   "outputs": [],
   "source": []
  }
 ],
 "metadata": {
  "kernelspec": {
   "display_name": "Python 3",
   "language": "python",
   "name": "python3"
  },
  "language_info": {
   "codemirror_mode": {
    "name": "ipython",
    "version": 3
   },
   "file_extension": ".py",
   "mimetype": "text/x-python",
   "name": "python",
   "nbconvert_exporter": "python",
   "pygments_lexer": "ipython3",
   "version": "3.10.12"
  },
  "papermill": {
   "default_parameters": {},
   "duration": 641.011111,
   "end_time": "2023-10-12T07:04:24.753999",
   "environment_variables": {},
   "exception": null,
   "input_path": "__notebook__.ipynb",
   "output_path": "__notebook__.ipynb",
   "parameters": {},
   "start_time": "2023-10-12T06:53:43.742888",
   "version": "2.4.0"
  }
 },
 "nbformat": 4,
 "nbformat_minor": 5
}
